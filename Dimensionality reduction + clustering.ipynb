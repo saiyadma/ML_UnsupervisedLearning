{
 "cells": [
  {
   "cell_type": "code",
   "execution_count": 4,
   "metadata": {},
   "outputs": [],
   "source": [
    "import pandas as pd\n",
    "from sklearn.model_selection import train_test_split\n",
    "from sklearn.decomposition import PCA\n",
    "from sklearn.decomposition import FastICA\n",
    "from sklearn.random_projection import SparseRandomProjection\n",
    "from sklearn.manifold import TSNE\n",
    "import numpy as np\n",
    "import matplotlib.pyplot as plt\n",
    "from sklearn.model_selection import train_test_split \n",
    "from sklearn import metrics\n",
    "from sklearn.tree import DecisionTreeClassifier \n",
    "from sklearn.model_selection import cross_val_score\n",
    "from sklearn.neural_network import MLPClassifier\n",
    "from sklearn.preprocessing import StandardScaler\n",
    "from sklearn.mixture import GaussianMixture\n",
    "from sklearn.cluster import AgglomerativeClustering\n",
    "from sklearn.svm import SVC"
   ]
  },
  {
   "cell_type": "markdown",
   "metadata": {},
   "source": [
    "## Loading Data sets"
   ]
  },
  {
   "cell_type": "code",
   "execution_count": 5,
   "metadata": {},
   "outputs": [],
   "source": [
    "# Dataset 1 from Homework 1: credit cards\n",
    "credit = pd.read_csv(\"creditcard.csv\")\n",
    "fraud_df = credit.loc[credit['Class'] == 1]\n",
    "non_fraud_df = credit.loc[credit['Class'] == 0][:492]\n",
    "\n",
    "normal_distributed_df = pd.concat([fraud_df, non_fraud_df])\n",
    "\n",
    "# Shuffle dataframe rows\n",
    "new_df = normal_distributed_df.sample(frac=1, random_state=42)\n",
    "\n",
    "DATASET1 = new_df.dropna()\n",
    "DATASET1 = DATASET1[['V1','V2','V3','V4','V5','V6','Class']]\n",
    "\n",
    "X1 = DATASET1\n",
    "Y1=DATASET1['Class']\n",
    "X1.drop(['Class'], axis=1,inplace=True)\n"
   ]
  },
  {
   "cell_type": "code",
   "execution_count": 6,
   "metadata": {},
   "outputs": [],
   "source": [
    "# Dataset 2 from Homework 1: Data Science Salaries\n",
    "salaries = pd.read_csv(\"salaries.csv\")\n",
    "#salaries = pd.get_dummies(salaries, columns=['job_title', 'job_category', 'experience_level', 'work_setting','employment_type','company_location','company_size','salary_currency', 'salary', 'employee_residence'])\n",
    "salaries['job_title'] = salaries['job_title'].str.replace('Business Intelligence','BI')\n",
    "salaries['job_title'] = salaries['job_title'].str.replace('Machine Learning','ML')\n",
    "salaries.drop(['salary_currency','salary'], axis = 1, inplace = True)\n",
    "\n",
    "set1 = sorted(set(salaries['job_title']))\n",
    "dictionary = {key: index for index, key in enumerate(set1)}\n",
    "salaries['job_title'] = salaries['job_title'].replace(dictionary)\n",
    "\n",
    "set1 = sorted(set(salaries[\"job_category\"]))\n",
    "dictionary = {key: index for index, key in enumerate(set1)}\n",
    "salaries['job_category'] = salaries['job_category'].replace(dictionary)\n",
    "\n",
    "set1 = sorted(set(salaries[\"employee_residence\"]))\n",
    "dictionary = {key: index for index, key in enumerate(set1)}\n",
    "salaries['employee_residence'] = salaries['employee_residence'].replace(dictionary)\n",
    "\n",
    "set1 = sorted(set(salaries[\"experience_level\"]))\n",
    "dictionary = {key: index for index, key in enumerate(set1)}\n",
    "salaries['experience_level'] = salaries['experience_level'].replace(dictionary)\n",
    "\n",
    "set1 = sorted(set(salaries[\"employee_residence\"]))\n",
    "dictionary = {key: index for index, key in enumerate(set1)}\n",
    "salaries['employee_residence'] = salaries['employee_residence'].replace(dictionary)\n",
    "\n",
    "set1 = sorted(set(salaries[\"employment_type\"]))\n",
    "dictionary = {key: index for index, key in enumerate(set1)}\n",
    "salaries['employment_type'] = salaries['employment_type'].replace(dictionary)\n",
    "\n",
    "set1 = sorted(set(salaries[\"work_setting\"]))\n",
    "dictionary = {key: index for index, key in enumerate(set1)}\n",
    "salaries['work_setting'] = salaries['work_setting'].replace(dictionary)\n",
    "\n",
    "set1 = sorted(set(salaries[\"company_location\"]))\n",
    "dictionary = {key: index for index, key in enumerate(set1)}\n",
    "salaries['company_location'] = salaries['company_location'].replace(dictionary)\n",
    "\n",
    "set1 = sorted(set(salaries[\"company_size\"]))\n",
    "dictionary = {key: index for index, key in enumerate(set1)}\n",
    "salaries['company_size'] = salaries['company_size'].replace(dictionary)\n",
    "\n",
    "\n",
    "DATASET2 = salaries.dropna()\n",
    "\n",
    "DATASET2['salary_in_usd'] = DATASET2['salary_in_usd']>100000\n",
    "DATASET2['salary_in_usd'] = DATASET2['salary_in_usd'].astype(int)\n",
    "\n",
    "\n",
    "X2 = DATASET2\n",
    "Y2=DATASET2['salary_in_usd']\n",
    "X2.drop(['salary_in_usd'], axis=1,inplace=True)\n"
   ]
  },
  {
   "cell_type": "markdown",
   "metadata": {},
   "source": [
    "###               PCA \n",
    "### Expectation Maximization "
   ]
  },
  {
   "cell_type": "code",
   "execution_count": 10,
   "metadata": {},
   "outputs": [
    {
     "name": "stdout",
     "output_type": "stream",
     "text": [
      "Full Covariance: \n",
      "  Training Accuracy:  0.8892276422764228\n"
     ]
    }
   ],
   "source": [
    "# Data1 Expectation Maximization \n",
    "pca = PCA(n_components=3)  # Reducing to 2 dimensions for visualization\n",
    "X_pca = pca.fit_transform(X1)\n",
    "X_pca\n",
    "\n",
    "gm = GaussianMixture(n_components=2,covariance_type = 'spherical').fit(X_pca)\n",
    "train_predict1 = gm.predict(X_pca)\n",
    "train_acc1 = metrics.accuracy_score(Y1,train_predict1)\n",
    "print(\"Full Covariance: \")\n",
    "print(\"  Training Accuracy: \", train_acc1)"
   ]
  },
  {
   "cell_type": "code",
   "execution_count": 14,
   "metadata": {},
   "outputs": [
    {
     "name": "stdout",
     "output_type": "stream",
     "text": [
      "Full Covariance: \n",
      "  Training Accuracy:  0.5909139497594869\n"
     ]
    }
   ],
   "source": [
    "# Data2 \n",
    "pca = PCA(n_components=3)  # Reducing to 2 dimensions for visualization\n",
    "X_pca = pca.fit_transform(X2)\n",
    "X_pca\n",
    "\n",
    "gm = GaussianMixture(n_components=2,covariance_type = 'spherical').fit(X_pca)\n",
    "train_predict1 = gm.predict(X_pca)\n",
    "train_acc1 = metrics.accuracy_score(Y2,train_predict1)\n",
    "print(\"Full Covariance: \")\n",
    "print(\"  Training Accuracy: \", train_acc1)"
   ]
  },
  {
   "cell_type": "markdown",
   "metadata": {},
   "source": [
    "\n",
    "###  Agglomerative Clustering "
   ]
  },
  {
   "cell_type": "code",
   "execution_count": 28,
   "metadata": {},
   "outputs": [
    {
     "name": "stdout",
     "output_type": "stream",
     "text": [
      "Ward linkage: \n",
      "  Training Accuracy:  0.5691056910569106\n"
     ]
    }
   ],
   "source": [
    "# Data1 Expectation Maximization \n",
    "pca = PCA(n_components=2)  # Reducing to 2 dimensions for visualization\n",
    "X_pca = pca.fit_transform(X1)\n",
    "X_pca\n",
    "\n",
    "gm = AgglomerativeClustering(n_clusters=2,linkage = 'ward').fit(X_pca)\n",
    "train_predict1 = gm.labels_\n",
    "train_acc1 = metrics.accuracy_score(Y1,train_predict1)\n",
    "#test_predict1 = gm.predict(X_test1)\n",
    "#test_acc1 = metrics.accuracy_score(test_label1,test_predict1)\n",
    "print(\"Ward linkage: \")\n",
    "print(\"  Training Accuracy: \", train_acc1)"
   ]
  },
  {
   "cell_type": "code",
   "execution_count": 27,
   "metadata": {},
   "outputs": [
    {
     "name": "stdout",
     "output_type": "stream",
     "text": [
      "Ward linkage: \n",
      "  Training Accuracy:  0.47311598075895245\n"
     ]
    }
   ],
   "source": [
    "# Data2 \n",
    "pca = PCA(n_components=2)  # Reducing to 2 dimensions for visualization\n",
    "X_pca = pca.fit_transform(X2)\n",
    "X_pca\n",
    "\n",
    "gm = AgglomerativeClustering(n_clusters=2,linkage = 'ward').fit(X2)\n",
    "train_predict1 = gm.labels_\n",
    "train_acc1 = metrics.accuracy_score(Y2,train_predict1)\n",
    "#test_predict1 = gm.predict(X_test1)\n",
    "#test_acc1 = metrics.accuracy_score(test_label1,test_predict1)\n",
    "print(\"Ward linkage: \")\n",
    "print(\"  Training Accuracy: \", train_acc1)"
   ]
  },
  {
   "cell_type": "code",
   "execution_count": null,
   "metadata": {},
   "outputs": [],
   "source": []
  },
  {
   "cell_type": "markdown",
   "metadata": {},
   "source": [
    "### ICA"
   ]
  },
  {
   "cell_type": "markdown",
   "metadata": {},
   "source": [
    "\n",
    "### Expectation Maximization "
   ]
  },
  {
   "cell_type": "code",
   "execution_count": 58,
   "metadata": {},
   "outputs": [
    {
     "data": {
      "image/png": "[encoded data removed]",
      "text/plain": [
       "<Figure size 432x288 with 1 Axes>"
      ]
     },
     "metadata": {
      "needs_background": "light"
     },
     "output_type": "display_data"
    },
    {
     "name": "stdout",
     "output_type": "stream",
     "text": [
      "Full Covariance: \n",
      "  Training Accuracy:  0.9105691056910569\n"
     ]
    }
   ],
   "source": [
    "# Data1 Expectation Maximization \n",
    "ica = FastICA(n_components=2)  # Reducing to 2 dimensions for visualization\n",
    "X_ica = ica.fit_transform(X1)\n",
    "\n",
    "X_ica\n",
    "\n",
    "gm = GaussianMixture(n_components=2).fit(X_ica)\n",
    "train_predict1 = gm.predict(X_ica)\n",
    "train_acc1 = metrics.accuracy_score(Y1,train_predict1)\n",
    "plt.scatter(X1['V3'], X1['V4'],c=train_predict1)\n",
    "plt.title(\"ICA EM\")\n",
    "plt.show()\n",
    "print(\"Full Covariance: \")\n",
    "print(\"  Training Accuracy: \", train_acc1)"
   ]
  },
  {
   "cell_type": "code",
   "execution_count": 25,
   "metadata": {},
   "outputs": [
    {
     "name": "stdout",
     "output_type": "stream",
     "text": [
      "Full Covariance: \n",
      "  Training Accuracy:  0.8023516835916622\n"
     ]
    }
   ],
   "source": [
    "# Data2 \n",
    "pca = FastICA(n_components=2)  # Reducing to 2 dimensions for visualization\n",
    "X_ica = ica.fit_transform(X2)\n",
    "\n",
    "X_ica\n",
    "\n",
    "gm = GaussianMixture(n_components=2).fit(X_ica)\n",
    "train_predict1 = gm.predict(X_ica)\n",
    "train_acc1 = metrics.accuracy_score(Y2,train_predict1)\n",
    "print(\"Full Covariance: \")\n",
    "print(\"  Training Accuracy: \", train_acc1)\n"
   ]
  },
  {
   "cell_type": "markdown",
   "metadata": {},
   "source": [
    "\n",
    "###  Agglomerative Clustering "
   ]
  },
  {
   "cell_type": "code",
   "execution_count": 32,
   "metadata": {},
   "outputs": [
    {
     "name": "stdout",
     "output_type": "stream",
     "text": [
      "Ward linkage: \n",
      "  Training Accuracy:  0.15040650406504066\n"
     ]
    }
   ],
   "source": [
    "# Data1 Expectation Maximization \n",
    "ica = FastICA(n_components=2)  # Reducing to 2 dimensions for visualization\n",
    "X_ica = ica.fit_transform(X1)\n",
    "\n",
    "X_ica\n",
    "\n",
    "\n",
    "gm = AgglomerativeClustering(n_clusters=2).fit(X_ica)\n",
    "train_predict1 = gm.labels_\n",
    "train_acc1 = metrics.accuracy_score(Y1,train_predict1)\n",
    "#test_predict1 = gm.predict(X_test1)\n",
    "#test_acc1 = metrics.accuracy_score(test_label1,test_predict1)\n",
    "print(\"Agglomerative Clustering: \")\n",
    "print(\"  Training Accuracy: \", train_acc1)"
   ]
  },
  {
   "cell_type": "code",
   "execution_count": 34,
   "metadata": {},
   "outputs": [
    {
     "name": "stdout",
     "output_type": "stream",
     "text": [
      "Agglomerative Clustering: \n",
      "  Training Accuracy:  0.47311598075895245\n"
     ]
    }
   ],
   "source": [
    "# Data2 \n",
    "ica = FastICA(n_components=2)  # Reducing to 2 dimensions for visualization\n",
    "X_ica = ica.fit_transform(X2)\n",
    "\n",
    "X_ica\n",
    "\n",
    "gm = AgglomerativeClustering(n_clusters=2).fit(X2)\n",
    "train_predict1 = gm.labels_\n",
    "train_acc1 = metrics.accuracy_score(Y2,train_predict1)\n",
    "#test_predict1 = gm.predict(X_test1)\n",
    "#test_acc1 = metrics.accuracy_score(test_label1,test_predict1)\n",
    "print(\"Agglomerative Clustering: \")\n",
    "print(\"  Training Accuracy: \", train_acc1)"
   ]
  },
  {
   "cell_type": "markdown",
   "metadata": {},
   "source": [
    "### Randomized projection"
   ]
  },
  {
   "cell_type": "markdown",
   "metadata": {},
   "source": [
    "\n",
    "### Expectation Maximization "
   ]
  },
  {
   "cell_type": "code",
   "execution_count": 40,
   "metadata": {},
   "outputs": [
    {
     "name": "stdout",
     "output_type": "stream",
     "text": [
      "Full Covariance: \n",
      "  Training Accuracy:  0.6829268292682927\n"
     ]
    }
   ],
   "source": [
    "# Data1 Expectation Maximization \n",
    "sr = SparseRandomProjection(n_components=2)  # Reducing to 2 dimensions for visualization\n",
    "X_sr= sr.fit_transform(X1)\n",
    "\n",
    "X_sr\n",
    "\n",
    "gm = GaussianMixture(n_components=2).fit(X_sr)\n",
    "train_predict1 = gm.predict(X_sr)\n",
    "train_acc1 = metrics.accuracy_score(Y1,train_predict1)\n",
    "print(\"Full Covariance: \")\n",
    "print(\"  Training Accuracy: \", train_acc1)"
   ]
  },
  {
   "cell_type": "code",
   "execution_count": 43,
   "metadata": {},
   "outputs": [
    {
     "name": "stdout",
     "output_type": "stream",
     "text": [
      "Full Covariance: \n",
      "  Training Accuracy:  0.2559059326563335\n"
     ]
    }
   ],
   "source": [
    "# Data2 \n",
    "sr = SparseRandomProjection(n_components=2)  # Reducing to 2 dimensions for visualization\n",
    "X_sr= sr.fit_transform(X2)\n",
    "\n",
    "X_sr\n",
    "\n",
    "gm = GaussianMixture(n_components=2).fit(X_sr)\n",
    "train_predict1 = gm.predict(X_sr)\n",
    "train_acc1 = metrics.accuracy_score(Y2,train_predict1)\n",
    "print(\"Full Covariance: \")\n",
    "print(\"  Training Accuracy: \", train_acc1)\n"
   ]
  },
  {
   "cell_type": "markdown",
   "metadata": {},
   "source": [
    "\n",
    "###  Agglomerative Clustering "
   ]
  },
  {
   "cell_type": "code",
   "execution_count": 44,
   "metadata": {},
   "outputs": [
    {
     "name": "stdout",
     "output_type": "stream",
     "text": [
      "Agglomerative Clustering: \n",
      "  Training Accuracy:  0.6270325203252033\n"
     ]
    }
   ],
   "source": [
    "# Data1 Expectation Maximization \n",
    "sr = SparseRandomProjection(n_components=2)  # Reducing to 2 dimensions for visualization\n",
    "X_sr= sr.fit_transform(X1)\n",
    "\n",
    "X_sr\n",
    "\n",
    "\n",
    "gm = AgglomerativeClustering(n_clusters=2).fit(X_sr)\n",
    "train_predict1 = gm.labels_\n",
    "train_acc1 = metrics.accuracy_score(Y1,train_predict1)\n",
    "#test_predict1 = gm.predict(X_test1)\n",
    "#test_acc1 = metrics.accuracy_score(test_label1,test_predict1)\n",
    "print(\"Agglomerative Clustering: \")\n",
    "print(\"  Training Accuracy: \", train_acc1)"
   ]
  },
  {
   "cell_type": "code",
   "execution_count": 45,
   "metadata": {},
   "outputs": [
    {
     "name": "stdout",
     "output_type": "stream",
     "text": [
      "Agglomerative Clustering: \n",
      "  Training Accuracy:  0.4632816675574559\n"
     ]
    }
   ],
   "source": [
    "# Data2 \n",
    "sr = SparseRandomProjection(n_components=2)  # Reducing to 2 dimensions for visualization\n",
    "X_sr= sr.fit_transform(X2)\n",
    "\n",
    "X_sr\n",
    "\n",
    "gm = AgglomerativeClustering(n_clusters=2).fit(X_sr)\n",
    "train_predict1 = gm.labels_\n",
    "train_acc1 = metrics.accuracy_score(Y2,train_predict1)\n",
    "#test_predict1 = gm.predict(X_test1)\n",
    "#test_acc1 = metrics.accuracy_score(test_label1,test_predict1)\n",
    "print(\"Agglomerative Clustering: \")\n",
    "print(\"  Training Accuracy: \", train_acc1)"
   ]
  },
  {
   "cell_type": "code",
   "execution_count": 28,
   "metadata": {},
   "outputs": [
    {
     "data": {
      "text/plain": [
       "array([[ -0.40593143,  -0.18274692],\n",
       "       [-12.2185518 ,   6.22009066],\n",
       "       [ -4.17960709,   1.39918072],\n",
       "       ...,\n",
       "       [  2.31403565,  -2.41028768],\n",
       "       [  0.14847482,   0.13222217],\n",
       "       [  5.87327302,   4.89227136]])"
      ]
     },
     "execution_count": 28,
     "metadata": {},
     "output_type": "execute_result"
    }
   ],
   "source": [
    "# Data 1\n",
    "rp = SparseRandomProjection(n_components=2)  \n",
    "X_rp = rp.fit_transform(X1)\n",
    "X_rp"
   ]
  },
  {
   "cell_type": "code",
   "execution_count": 29,
   "metadata": {},
   "outputs": [
    {
     "data": {
      "text/plain": [
       "array([[-2439.69178381,  2505.82800687],\n",
       "       [-2448.26499791,  2560.94152608],\n",
       "       [-2448.26499791,  2560.94152608],\n",
       "       ...,\n",
       "       [-2356.40913256,  2559.71678121],\n",
       "       [-2406.62367228,  2556.04254659],\n",
       "       [-2458.06295688,  2558.49203634]])"
      ]
     },
     "execution_count": 29,
     "metadata": {},
     "output_type": "execute_result"
    }
   ],
   "source": [
    "# Data 2\n",
    "rp = SparseRandomProjection(n_components=2)  \n",
    "X_rp = rp.fit_transform(X2)\n",
    "X_rp\n"
   ]
  },
  {
   "cell_type": "markdown",
   "metadata": {},
   "source": [
    "### Manifold Learning Algorithm ( t-SNE) "
   ]
  },
  {
   "cell_type": "code",
   "execution_count": 46,
   "metadata": {},
   "outputs": [
    {
     "data": {
      "text/plain": [
       "array([[ -7.012452 , -32.393105 ],\n",
       "       [ -1.0454497,  26.064125 ],\n",
       "       [ 32.928486 ,   8.500469 ],\n",
       "       ...,\n",
       "       [ 49.45087  ,  -1.3738984],\n",
       "       [ -5.538813 ,   7.7059584],\n",
       "       [-14.59629  , -10.647065 ]], dtype=float32)"
      ]
     },
     "execution_count": 46,
     "metadata": {},
     "output_type": "execute_result"
    }
   ],
   "source": [
    "# Data 1\n",
    "tsne = TSNE(n_components=2, random_state=42)\n",
    "X_tsne1 = tsne.fit_transform(X1)\n",
    "X_tsne1"
   ]
  },
  {
   "cell_type": "code",
   "execution_count": 47,
   "metadata": {},
   "outputs": [
    {
     "data": {
      "text/plain": [
       "array([[ 34.908367 ,  -2.2019951],\n",
       "       [-73.6218   ,   3.658323 ],\n",
       "       [-72.952896 ,   3.5868788],\n",
       "       ...,\n",
       "       [-51.335747 ,  31.670801 ],\n",
       "       [ -6.6569986, -57.088818 ],\n",
       "       [-11.125303 ,  73.249626 ]], dtype=float32)"
      ]
     },
     "execution_count": 47,
     "metadata": {},
     "output_type": "execute_result"
    }
   ],
   "source": [
    "# Data 1\n",
    "tsne = TSNE(n_components=2)\n",
    "X_tsne2 = tsne.fit_transform(X2)\n",
    "X_tsne2"
   ]
  },
  {
   "cell_type": "markdown",
   "metadata": {},
   "source": [
    "\n",
    "### Expectation Maximization "
   ]
  },
  {
   "cell_type": "code",
   "execution_count": 48,
   "metadata": {},
   "outputs": [
    {
     "name": "stdout",
     "output_type": "stream",
     "text": [
      "Full Covariance: \n",
      "  Training Accuracy:  0.34552845528455284\n"
     ]
    }
   ],
   "source": [
    "# Data1 Expectation Maximization \n",
    "sr = SparseRandomProjection(n_components=2)  # Reducing to 2 dimensions for visualization\n",
    "X_sr= sr.fit_transform(X_tsne1)\n",
    "\n",
    "X_sr\n",
    "\n",
    "gm = GaussianMixture(n_components=2).fit(X_sr)\n",
    "train_predict1 = gm.predict(X_sr)\n",
    "train_acc1 = metrics.accuracy_score(Y1,train_predict1)\n",
    "print(\"Full Covariance: \")\n",
    "print(\"  Training Accuracy: \", train_acc1)"
   ]
  },
  {
   "cell_type": "code",
   "execution_count": 49,
   "metadata": {},
   "outputs": [
    {
     "name": "stdout",
     "output_type": "stream",
     "text": [
      "Full Covariance: \n",
      "  Training Accuracy:  0.3982896846606093\n"
     ]
    }
   ],
   "source": [
    "# Data2 \n",
    "sr = SparseRandomProjection(n_components=2)  # Reducing to 2 dimensions for visualization\n",
    "X_sr= sr.fit_transform(X_tsne2)\n",
    "\n",
    "X_sr\n",
    "\n",
    "gm = GaussianMixture(n_components=2).fit(X_sr)\n",
    "train_predict1 = gm.predict(X_sr)\n",
    "train_acc1 = metrics.accuracy_score(Y2,train_predict1)\n",
    "print(\"Full Covariance: \")\n",
    "print(\"  Training Accuracy: \", train_acc1)\n"
   ]
  },
  {
   "cell_type": "markdown",
   "metadata": {},
   "source": [
    "\n",
    "###  Agglomerative Clustering "
   ]
  },
  {
   "cell_type": "code",
   "execution_count": 50,
   "metadata": {},
   "outputs": [
    {
     "name": "stdout",
     "output_type": "stream",
     "text": [
      "Agglomerative Clustering: \n",
      "  Training Accuracy:  0.2936991869918699\n"
     ]
    }
   ],
   "source": [
    "# Data1 Expectation Maximization \n",
    "sr = SparseRandomProjection(n_components=2)  # Reducing to 2 dimensions for visualization\n",
    "X_sr= sr.fit_transform(X_tsne1)\n",
    "\n",
    "X_sr\n",
    "\n",
    "\n",
    "gm = AgglomerativeClustering(n_clusters=2).fit(X_sr)\n",
    "train_predict1 = gm.labels_\n",
    "train_acc1 = metrics.accuracy_score(Y1,train_predict1)\n",
    "#test_predict1 = gm.predict(X_test1)\n",
    "#test_acc1 = metrics.accuracy_score(test_label1,test_predict1)\n",
    "print(\"Agglomerative Clustering: \")\n",
    "print(\"  Training Accuracy: \", train_acc1)"
   ]
  },
  {
   "cell_type": "code",
   "execution_count": 51,
   "metadata": {},
   "outputs": [
    {
     "name": "stdout",
     "output_type": "stream",
     "text": [
      "Agglomerative Clustering: \n",
      "  Training Accuracy:  0.4089791555318012\n"
     ]
    }
   ],
   "source": [
    "# Data2 \n",
    "sr = SparseRandomProjection(n_components=2)  # Reducing to 2 dimensions for visualization\n",
    "X_sr= sr.fit_transform(X_tsne2)\n",
    "\n",
    "X_sr\n",
    "\n",
    "gm = AgglomerativeClustering(n_clusters=2).fit(X_sr)\n",
    "train_predict1 = gm.labels_\n",
    "train_acc1 = metrics.accuracy_score(Y2,train_predict1)\n",
    "#test_predict1 = gm.predict(X_test1)\n",
    "#test_acc1 = metrics.accuracy_score(test_label1,test_predict1)\n",
    "print(\"Agglomerative Clustering: \")\n",
    "print(\" Training Accuracy: \", train_acc1)"
   ]
  },
  {
   "cell_type": "code",
   "execution_count": null,
   "metadata": {},
   "outputs": [],
   "source": []
  }
 ],
 "metadata": {
  "kernelspec": {
   "display_name": "Python 3",
   "language": "python",
   "name": "python3"
  },
  "language_info": {
   "codemirror_mode": {
    "name": "ipython",
    "version": 3
   },
   "file_extension": ".py",
   "mimetype": "text/x-python",
   "name": "python",
   "nbconvert_exporter": "python",
   "pygments_lexer": "ipython3",
   "version": "3.8.3"
  }
 },
 "nbformat": 4,
 "nbformat_minor": 4
}
