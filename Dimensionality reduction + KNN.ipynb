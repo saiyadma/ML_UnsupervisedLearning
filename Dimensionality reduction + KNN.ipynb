{
 "cells": [
  {
   "cell_type": "code",
   "execution_count": 4,
   "metadata": {},
   "outputs": [],
   "source": [
    "import pandas as pd\n",
    "from sklearn.model_selection import train_test_split\n",
    "from sklearn.decomposition import PCA\n",
    "from sklearn.decomposition import FastICA\n",
    "from sklearn.random_projection import SparseRandomProjection\n",
    "from sklearn.neighbors import KNeighborsClassifier\n",
    "from sklearn.manifold import TSNE\n",
    "import numpy as np\n",
    "#import tensorflow as tf\n",
    "from sklearn.datasets import make_classification\n",
    "from sklearn.model_selection import train_test_split"
   ]
  },
  {
   "cell_type": "markdown",
   "metadata": {},
   "source": [
    "## Loading Data sets"
   ]
  },
  {
   "cell_type": "code",
   "execution_count": 6,
   "metadata": {},
   "outputs": [],
   "source": [
    "# Dataset 1 from Homework 1: credit cards\n",
    "credit = pd.read_csv(\"creditcard.csv\")\n",
    "fraud_df = credit.loc[credit['Class'] == 1]\n",
    "non_fraud_df = credit.loc[credit['Class'] == 0][:492]\n",
    "\n",
    "normal_distributed_df = pd.concat([fraud_df, non_fraud_df])\n",
    "\n",
    "# Shuffle dataframe rows\n",
    "new_df = normal_distributed_df.sample(frac=1, random_state=42)\n",
    "\n",
    "DATASET1 = new_df.dropna()\n",
    "DATASET1 = DATASET1[['V1','V2','V3','V4','V5','V6','Class']]\n",
    "\n",
    "X1 = DATASET1\n",
    "Y1=DATASET1['Class']\n",
    "X1.drop(['Class'], axis=1,inplace=True)\n"
   ]
  },
  {
   "cell_type": "code",
   "execution_count": 7,
   "metadata": {},
   "outputs": [],
   "source": [
    "# Dataset 2 from Homework 1: Data Science Salaries\n",
    "salaries = pd.read_csv(\"salaries.csv\")\n",
    "#salaries = pd.get_dummies(salaries, columns=['job_title', 'job_category', 'experience_level', 'work_setting','employment_type','company_location','company_size','salary_currency', 'salary', 'employee_residence'])\n",
    "salaries['job_title'] = salaries['job_title'].str.replace('Business Intelligence','BI')\n",
    "salaries['job_title'] = salaries['job_title'].str.replace('Machine Learning','ML')\n",
    "salaries.drop(['salary_currency','salary'], axis = 1, inplace = True)\n",
    "\n",
    "set1 = sorted(set(salaries['job_title']))\n",
    "dictionary = {key: index for index, key in enumerate(set1)}\n",
    "salaries['job_title'] = salaries['job_title'].replace(dictionary)\n",
    "\n",
    "set1 = sorted(set(salaries[\"job_category\"]))\n",
    "dictionary = {key: index for index, key in enumerate(set1)}\n",
    "salaries['job_category'] = salaries['job_category'].replace(dictionary)\n",
    "\n",
    "set1 = sorted(set(salaries[\"employee_residence\"]))\n",
    "dictionary = {key: index for index, key in enumerate(set1)}\n",
    "salaries['employee_residence'] = salaries['employee_residence'].replace(dictionary)\n",
    "\n",
    "set1 = sorted(set(salaries[\"experience_level\"]))\n",
    "dictionary = {key: index for index, key in enumerate(set1)}\n",
    "salaries['experience_level'] = salaries['experience_level'].replace(dictionary)\n",
    "\n",
    "set1 = sorted(set(salaries[\"employee_residence\"]))\n",
    "dictionary = {key: index for index, key in enumerate(set1)}\n",
    "salaries['employee_residence'] = salaries['employee_residence'].replace(dictionary)\n",
    "\n",
    "set1 = sorted(set(salaries[\"employment_type\"]))\n",
    "dictionary = {key: index for index, key in enumerate(set1)}\n",
    "salaries['employment_type'] = salaries['employment_type'].replace(dictionary)\n",
    "\n",
    "set1 = sorted(set(salaries[\"work_setting\"]))\n",
    "dictionary = {key: index for index, key in enumerate(set1)}\n",
    "salaries['work_setting'] = salaries['work_setting'].replace(dictionary)\n",
    "\n",
    "set1 = sorted(set(salaries[\"company_location\"]))\n",
    "dictionary = {key: index for index, key in enumerate(set1)}\n",
    "salaries['company_location'] = salaries['company_location'].replace(dictionary)\n",
    "\n",
    "set1 = sorted(set(salaries[\"company_size\"]))\n",
    "dictionary = {key: index for index, key in enumerate(set1)}\n",
    "salaries['company_size'] = salaries['company_size'].replace(dictionary)\n",
    "\n",
    "\n",
    "DATASET2 = salaries.dropna()\n",
    "\n",
    "DATASET2['salary_in_usd'] = DATASET2['salary_in_usd']>100000\n",
    "DATASET2['salary_in_usd'] = DATASET2['salary_in_usd'].astype(int)\n",
    "\n",
    "\n",
    "X2 = DATASET2\n",
    "Y2=DATASET2['salary_in_usd']\n",
    "X2.drop(['salary_in_usd'], axis=1,inplace=True)\n"
   ]
  },
  {
   "cell_type": "markdown",
   "metadata": {},
   "source": [
    "### PCA"
   ]
  },
  {
   "cell_type": "code",
   "execution_count": 15,
   "metadata": {},
   "outputs": [
    {
     "name": "stdout",
     "output_type": "stream",
     "text": [
      "KNN Accuracy after PCA: 0.949238578680203\n"
     ]
    }
   ],
   "source": [
    "# Data1\n",
    "pca = PCA(n_components=3)  # Reducing to 2 dimensions for visualization\n",
    "X_pca = pca.fit_transform(X1)\n",
    "X_pca\n",
    " \n",
    "\n",
    "X_train1, X_test1, y_train1, y_test1 = train_test_split(X_pca, Y1, test_size=0.2, random_state=42)\n",
    "knn_classifier = KNeighborsClassifier(n_neighbors=5)\n",
    "knn_classifier.fit(X_train1, y_train1)\n",
    "\n",
    "# Evaluating the classifier\n",
    "accuracy = knn_classifier.score(X_test1, y_test1)\n",
    "print(\"KNN Accuracy after PCA:\", accuracy)"
   ]
  },
  {
   "cell_type": "code",
   "execution_count": 19,
   "metadata": {},
   "outputs": [
    {
     "data": {
      "text/plain": [
       "array([[-1.28007890e+01,  6.38976410e+01, -2.53627878e+00],\n",
       "       [-1.63650227e+01, -4.66367674e+00, -1.38843191e-01],\n",
       "       [-1.63650227e+01, -4.66367674e+00, -1.38843191e-01],\n",
       "       ...,\n",
       "       [ 5.56940533e+01, -7.27621307e+00,  9.98291083e-02],\n",
       "       [ 1.17958029e+01, -5.65016387e+00,  5.39494389e-02],\n",
       "       [-3.03949113e+01, -4.11916357e+00, -1.57078146e-01]])"
      ]
     },
     "execution_count": 19,
     "metadata": {},
     "output_type": "execute_result"
    }
   ],
   "source": [
    "# Data2\n",
    "pca = PCA(n_components=3)  # Reducing to 2 dimensions for visualization\n",
    "X_pca = pca.fit_transform(X2)\n",
    "X_pca"
   ]
  },
  {
   "cell_type": "markdown",
   "metadata": {},
   "source": [
    "### ICA"
   ]
  },
  {
   "cell_type": "code",
   "execution_count": 23,
   "metadata": {},
   "outputs": [
    {
     "name": "stdout",
     "output_type": "stream",
     "text": [
      "KNN Accuracy after ICA: 0.9289340101522843\n"
     ]
    }
   ],
   "source": [
    "# Data1\n",
    "ica = FastICA(n_components=3)  # Reducing to 2 dimensions for visualization\n",
    "X_ica = ica.fit_transform(X1)\n",
    "X_ica\n",
    "\n",
    "X_train1, X_test1, y_train1, y_test1 = train_test_split(X_ica, Y1, test_size=0.2, random_state=42)\n",
    "knn_classifier = KNeighborsClassifier(n_neighbors=5)\n",
    "knn_classifier.fit(X_train1, y_train1)\n",
    "\n",
    "# Evaluating the classifier\n",
    "accuracy = knn_classifier.score(X_test1, y_test1)\n",
    "print(\"KNN Accuracy after ICA:\", accuracy)"
   ]
  },
  {
   "cell_type": "code",
   "execution_count": 21,
   "metadata": {},
   "outputs": [
    {
     "name": "stdout",
     "output_type": "stream",
     "text": [
      "KNN Accuracy after ica: 0.8311063602351684\n"
     ]
    }
   ],
   "source": [
    "# Data2\n",
    "ica = FastICA(n_components=3)  # Reducing to 2 dimensions for visualization\n",
    "X_ica = ica.fit_transform(X2)\n",
    "X_ica\n",
    "\n",
    "X_train1, X_test1, y_train1, y_test1 = train_test_split(X_ica, Y2, test_size=0.2, random_state=42)\n",
    "knn_classifier = KNeighborsClassifier(n_neighbors=5)\n",
    "knn_classifier.fit(X_train1, y_train1)\n",
    "\n",
    "# Evaluating the classifier\n",
    "accuracy = knn_classifier.score(X_test1, y_test1)\n",
    "print(\"KNN Accuracy after ica:\", accuracy)"
   ]
  },
  {
   "cell_type": "markdown",
   "metadata": {},
   "source": [
    "### Randomized projection"
   ]
  },
  {
   "cell_type": "code",
   "execution_count": 22,
   "metadata": {},
   "outputs": [
    {
     "name": "stdout",
     "output_type": "stream",
     "text": [
      "KNN Accuracy after rp: 0.9289340101522843\n"
     ]
    }
   ],
   "source": [
    "# Data 1\n",
    "rp = SparseRandomProjection(n_components=2)  \n",
    "X_rp = rp.fit_transform(X1)\n",
    "X_rp\n",
    "\n",
    "X_train1, X_test1, y_train1, y_test1 = train_test_split(X_rp, Y1, test_size=0.2, random_state=42)\n",
    "knn_classifier = KNeighborsClassifier(n_neighbors=5)\n",
    "knn_classifier.fit(X_train1, y_train1)\n",
    "\n",
    "# Evaluating the classifier\n",
    "accuracy = knn_classifier.score(X_test1, y_test1)\n",
    "print(\"KNN Accuracy after rp:\", accuracy)"
   ]
  },
  {
   "cell_type": "code",
   "execution_count": 29,
   "metadata": {},
   "outputs": [
    {
     "data": {
      "text/plain": [
       "array([[-2439.69178381,  2505.82800687],\n",
       "       [-2448.26499791,  2560.94152608],\n",
       "       [-2448.26499791,  2560.94152608],\n",
       "       ...,\n",
       "       [-2356.40913256,  2559.71678121],\n",
       "       [-2406.62367228,  2556.04254659],\n",
       "       [-2458.06295688,  2558.49203634]])"
      ]
     },
     "execution_count": 29,
     "metadata": {},
     "output_type": "execute_result"
    }
   ],
   "source": [
    "# Data 2\n",
    "rp = SparseRandomProjection(n_components=2)  \n",
    "X_rp = rp.fit_transform(X2)\n",
    "X_rp\n"
   ]
  },
  {
   "cell_type": "markdown",
   "metadata": {},
   "source": [
    "### Manifold Learning Algorithm ( t-SNE) "
   ]
  },
  {
   "cell_type": "code",
   "execution_count": 25,
   "metadata": {},
   "outputs": [
    {
     "name": "stdout",
     "output_type": "stream",
     "text": [
      "KNN Accuracy after tsne: 0.934010152284264\n"
     ]
    }
   ],
   "source": [
    "# Data 1\n",
    "tsne = TSNE(n_components=2, random_state=42)\n",
    "X_tsne = tsne.fit_transform(X1)\n",
    "X_tsne\n",
    "X_train1, X_test1, y_train1, y_test1 = train_test_split(X_tsne, Y1, test_size=0.2, random_state=42)\n",
    "knn_classifier = KNeighborsClassifier(n_neighbors=5)\n",
    "knn_classifier.fit(X_train1, y_train1)\n",
    "\n",
    "# Evaluating the classifier\n",
    "accuracy = knn_classifier.score(X_test1, y_test1)\n",
    "print(\"KNN Accuracy after tsne:\", accuracy)"
   ]
  },
  {
   "cell_type": "code",
   "execution_count": 33,
   "metadata": {},
   "outputs": [
    {
     "data": {
      "text/plain": [
       "array([[  5.4482574, -21.90801  ],\n",
       "       [ 51.563442 , -48.32477  ],\n",
       "       [ 50.971054 , -47.91273  ],\n",
       "       ...,\n",
       "       [ 45.80226  ,  21.966759 ],\n",
       "       [ 54.2793   ,  -4.8891783],\n",
       "       [-14.191639 , -52.361763 ]], dtype=float32)"
      ]
     },
     "execution_count": 33,
     "metadata": {},
     "output_type": "execute_result"
    }
   ],
   "source": [
    "# Data 1\n",
    "tsne = TSNE(n_components=2)\n",
    "X_tsne = tsne.fit_transform(X2)\n",
    "X_tsne"
   ]
  },
  {
   "cell_type": "code",
   "execution_count": null,
   "metadata": {},
   "outputs": [],
   "source": []
  }
 ],
 "metadata": {
  "kernelspec": {
   "display_name": "Python 3",
   "language": "python",
   "name": "python3"
  },
  "language_info": {
   "codemirror_mode": {
    "name": "ipython",
    "version": 3
   },
   "file_extension": ".py",
   "mimetype": "text/x-python",
   "name": "python",
   "nbconvert_exporter": "python",
   "pygments_lexer": "ipython3",
   "version": "3.8.3"
  }
 },
 "nbformat": 4,
 "nbformat_minor": 4
}
