{
 "cells": [
  {
   "cell_type": "code",
   "execution_count": 7,
   "metadata": {},
   "outputs": [],
   "source": [
    "import pandas as pd\n",
    "import numpy as np\n",
    "import matplotlib.pyplot as plt\n",
    "from sklearn.model_selection import train_test_split \n",
    "from sklearn import metrics\n",
    "from sklearn.tree import DecisionTreeClassifier \n",
    "from sklearn.model_selection import cross_val_score\n",
    "from sklearn.neural_network import MLPClassifier\n",
    "from sklearn.preprocessing import StandardScaler\n",
    "from sklearn.mixture import GaussianMixture\n",
    "from sklearn.cluster import AgglomerativeClustering\n",
    "from sklearn.neighbors import KNeighborsClassifier\n",
    "from sklearn.model_selection import train_test_split\n",
    "from sklearn.svm import SVC"
   ]
  },
  {
   "cell_type": "markdown",
   "metadata": {},
   "source": [
    "## Loading Data sets"
   ]
  },
  {
   "cell_type": "code",
   "execution_count": 2,
   "metadata": {},
   "outputs": [
    {
     "name": "stderr",
     "output_type": "stream",
     "text": [
      "C:\\ProgramData\\Anaconda3\\lib\\site-packages\\pandas\\core\\frame.py:3990: SettingWithCopyWarning: \n",
      "A value is trying to be set on a copy of a slice from a DataFrame\n",
      "\n",
      "See the caveats in the documentation: https://pandas.pydata.org/pandas-docs/stable/user_guide/indexing.html#returning-a-view-versus-a-copy\n",
      "  return super().drop(\n"
     ]
    },
    {
     "data": {
      "text/plain": [
       "<matplotlib.collections.PathCollection at 0x26c624a57f0>"
      ]
     },
     "execution_count": 2,
     "metadata": {},
     "output_type": "execute_result"
    },
    {
     "data": {
      "image/png": "[encoded data removed]",
      "text/plain": [
       "<Figure size 432x288 with 1 Axes>"
      ]
     },
     "metadata": {
      "needs_background": "light"
     },
     "output_type": "display_data"
    }
   ],
   "source": [
    "# Dataset 1 from Homework 1: credit cards\n",
    "credit = pd.read_csv(\"creditcard.csv\")\n",
    "fraud_df = credit.loc[credit['Class'] == 1]\n",
    "non_fraud_df = credit.loc[credit['Class'] == 0][:492]\n",
    "\n",
    "normal_distributed_df = pd.concat([fraud_df, non_fraud_df])\n",
    "\n",
    "# Shuffle dataframe rows\n",
    "new_df = normal_distributed_df.sample(frac=1, random_state=42)\n",
    "\n",
    "DATASET1 = new_df.dropna()\n",
    "DATASET1 = DATASET1[['V1','V2','V3','V4','V5','V6','Class']]\n",
    "X_train1, X_test1= train_test_split(DATASET1, test_size=0.4,random_state=41)\n",
    "train_label1=X_train1['Class']\n",
    "test_label1=X_test1['Class']\n",
    "X_train1.drop(['Class'], axis=1,inplace=True)\n",
    "X_test1.drop(['Class'], axis=1,inplace=True)\n",
    "color1 = (0.69411766529083252, 0.3490196168422699, \n",
    "          0.15686275064945221, 1.0)\n",
    "color2 = (0.65098041296005249, 0.80784314870834351,\n",
    "          0.89019608497619629, 1.0)\n",
    "\n",
    "plt.scatter(X_train1['V3'], X_train1['V4'],c=train_label1)"
   ]
  },
  {
   "cell_type": "code",
   "execution_count": null,
   "metadata": {},
   "outputs": [],
   "source": []
  },
  {
   "cell_type": "code",
   "execution_count": 3,
   "metadata": {},
   "outputs": [
    {
     "data": {
      "text/html": [
       "<div>\n",
       "<style scoped>\n",
       "    .dataframe tbody tr th:only-of-type {\n",
       "        vertical-align: middle;\n",
       "    }\n",
       "\n",
       "    .dataframe tbody tr th {\n",
       "        vertical-align: top;\n",
       "    }\n",
       "\n",
       "    .dataframe thead th {\n",
       "        text-align: right;\n",
       "    }\n",
       "</style>\n",
       "<table border=\"1\" class=\"dataframe\">\n",
       "  <thead>\n",
       "    <tr style=\"text-align: right;\">\n",
       "      <th></th>\n",
       "      <th>work_year</th>\n",
       "      <th>job_title</th>\n",
       "      <th>job_category</th>\n",
       "      <th>salary_in_usd</th>\n",
       "      <th>employee_residence</th>\n",
       "      <th>experience_level</th>\n",
       "      <th>employment_type</th>\n",
       "      <th>work_setting</th>\n",
       "      <th>company_location</th>\n",
       "      <th>company_size</th>\n",
       "    </tr>\n",
       "  </thead>\n",
       "  <tbody>\n",
       "    <tr>\n",
       "      <th>0</th>\n",
       "      <td>2023</td>\n",
       "      <td>39</td>\n",
       "      <td>4</td>\n",
       "      <td>0</td>\n",
       "      <td>29</td>\n",
       "      <td>2</td>\n",
       "      <td>2</td>\n",
       "      <td>0</td>\n",
       "      <td>23</td>\n",
       "      <td>0</td>\n",
       "    </tr>\n",
       "    <tr>\n",
       "      <th>1</th>\n",
       "      <td>2023</td>\n",
       "      <td>38</td>\n",
       "      <td>3</td>\n",
       "      <td>1</td>\n",
       "      <td>80</td>\n",
       "      <td>3</td>\n",
       "      <td>2</td>\n",
       "      <td>1</td>\n",
       "      <td>69</td>\n",
       "      <td>1</td>\n",
       "    </tr>\n",
       "    <tr>\n",
       "      <th>2</th>\n",
       "      <td>2023</td>\n",
       "      <td>38</td>\n",
       "      <td>3</td>\n",
       "      <td>0</td>\n",
       "      <td>80</td>\n",
       "      <td>3</td>\n",
       "      <td>2</td>\n",
       "      <td>1</td>\n",
       "      <td>69</td>\n",
       "      <td>1</td>\n",
       "    </tr>\n",
       "    <tr>\n",
       "      <th>3</th>\n",
       "      <td>2023</td>\n",
       "      <td>66</td>\n",
       "      <td>7</td>\n",
       "      <td>1</td>\n",
       "      <td>80</td>\n",
       "      <td>3</td>\n",
       "      <td>2</td>\n",
       "      <td>1</td>\n",
       "      <td>69</td>\n",
       "      <td>1</td>\n",
       "    </tr>\n",
       "    <tr>\n",
       "      <th>4</th>\n",
       "      <td>2023</td>\n",
       "      <td>66</td>\n",
       "      <td>7</td>\n",
       "      <td>0</td>\n",
       "      <td>80</td>\n",
       "      <td>3</td>\n",
       "      <td>2</td>\n",
       "      <td>1</td>\n",
       "      <td>69</td>\n",
       "      <td>1</td>\n",
       "    </tr>\n",
       "    <tr>\n",
       "      <th>...</th>\n",
       "      <td>...</td>\n",
       "      <td>...</td>\n",
       "      <td>...</td>\n",
       "      <td>...</td>\n",
       "      <td>...</td>\n",
       "      <td>...</td>\n",
       "      <td>...</td>\n",
       "      <td>...</td>\n",
       "      <td>...</td>\n",
       "      <td>...</td>\n",
       "    </tr>\n",
       "    <tr>\n",
       "      <th>9350</th>\n",
       "      <td>2021</td>\n",
       "      <td>68</td>\n",
       "      <td>5</td>\n",
       "      <td>1</td>\n",
       "      <td>80</td>\n",
       "      <td>3</td>\n",
       "      <td>2</td>\n",
       "      <td>2</td>\n",
       "      <td>69</td>\n",
       "      <td>0</td>\n",
       "    </tr>\n",
       "    <tr>\n",
       "      <th>9351</th>\n",
       "      <td>2020</td>\n",
       "      <td>66</td>\n",
       "      <td>7</td>\n",
       "      <td>1</td>\n",
       "      <td>80</td>\n",
       "      <td>3</td>\n",
       "      <td>2</td>\n",
       "      <td>2</td>\n",
       "      <td>69</td>\n",
       "      <td>0</td>\n",
       "    </tr>\n",
       "    <tr>\n",
       "      <th>9352</th>\n",
       "      <td>2021</td>\n",
       "      <td>110</td>\n",
       "      <td>7</td>\n",
       "      <td>1</td>\n",
       "      <td>80</td>\n",
       "      <td>2</td>\n",
       "      <td>2</td>\n",
       "      <td>2</td>\n",
       "      <td>69</td>\n",
       "      <td>0</td>\n",
       "    </tr>\n",
       "    <tr>\n",
       "      <th>9353</th>\n",
       "      <td>2020</td>\n",
       "      <td>66</td>\n",
       "      <td>7</td>\n",
       "      <td>1</td>\n",
       "      <td>80</td>\n",
       "      <td>0</td>\n",
       "      <td>2</td>\n",
       "      <td>2</td>\n",
       "      <td>69</td>\n",
       "      <td>2</td>\n",
       "    </tr>\n",
       "    <tr>\n",
       "      <th>9354</th>\n",
       "      <td>2020</td>\n",
       "      <td>24</td>\n",
       "      <td>2</td>\n",
       "      <td>0</td>\n",
       "      <td>80</td>\n",
       "      <td>0</td>\n",
       "      <td>0</td>\n",
       "      <td>2</td>\n",
       "      <td>69</td>\n",
       "      <td>0</td>\n",
       "    </tr>\n",
       "  </tbody>\n",
       "</table>\n",
       "<p>9355 rows × 10 columns</p>\n",
       "</div>"
      ],
      "text/plain": [
       "      work_year  job_title  job_category  salary_in_usd  employee_residence  \\\n",
       "0          2023         39             4              0                  29   \n",
       "1          2023         38             3              1                  80   \n",
       "2          2023         38             3              0                  80   \n",
       "3          2023         66             7              1                  80   \n",
       "4          2023         66             7              0                  80   \n",
       "...         ...        ...           ...            ...                 ...   \n",
       "9350       2021         68             5              1                  80   \n",
       "9351       2020         66             7              1                  80   \n",
       "9352       2021        110             7              1                  80   \n",
       "9353       2020         66             7              1                  80   \n",
       "9354       2020         24             2              0                  80   \n",
       "\n",
       "      experience_level  employment_type  work_setting  company_location  \\\n",
       "0                    2                2             0                23   \n",
       "1                    3                2             1                69   \n",
       "2                    3                2             1                69   \n",
       "3                    3                2             1                69   \n",
       "4                    3                2             1                69   \n",
       "...                ...              ...           ...               ...   \n",
       "9350                 3                2             2                69   \n",
       "9351                 3                2             2                69   \n",
       "9352                 2                2             2                69   \n",
       "9353                 0                2             2                69   \n",
       "9354                 0                0             2                69   \n",
       "\n",
       "      company_size  \n",
       "0                0  \n",
       "1                1  \n",
       "2                1  \n",
       "3                1  \n",
       "4                1  \n",
       "...            ...  \n",
       "9350             0  \n",
       "9351             0  \n",
       "9352             0  \n",
       "9353             2  \n",
       "9354             0  \n",
       "\n",
       "[9355 rows x 10 columns]"
      ]
     },
     "execution_count": 3,
     "metadata": {},
     "output_type": "execute_result"
    }
   ],
   "source": [
    "# Dataset 2 from Homework 1: Data Science Salaries\n",
    "salaries = pd.read_csv(\"salaries.csv\")\n",
    "#salaries = pd.get_dummies(salaries, columns=['job_title', 'job_category', 'experience_level', 'work_setting','employment_type','company_location','company_size','salary_currency', 'salary', 'employee_residence'])\n",
    "salaries['job_title'] = salaries['job_title'].str.replace('Business Intelligence','BI')\n",
    "salaries['job_title'] = salaries['job_title'].str.replace('Machine Learning','ML')\n",
    "salaries.drop(['salary_currency','salary'], axis = 1, inplace = True)\n",
    "\n",
    "set1 = sorted(set(salaries['job_title']))\n",
    "dictionary = {key: index for index, key in enumerate(set1)}\n",
    "salaries['job_title'] = salaries['job_title'].replace(dictionary)\n",
    "\n",
    "set1 = sorted(set(salaries[\"job_category\"]))\n",
    "dictionary = {key: index for index, key in enumerate(set1)}\n",
    "salaries['job_category'] = salaries['job_category'].replace(dictionary)\n",
    "\n",
    "set1 = sorted(set(salaries[\"employee_residence\"]))\n",
    "dictionary = {key: index for index, key in enumerate(set1)}\n",
    "salaries['employee_residence'] = salaries['employee_residence'].replace(dictionary)\n",
    "\n",
    "set1 = sorted(set(salaries[\"experience_level\"]))\n",
    "dictionary = {key: index for index, key in enumerate(set1)}\n",
    "salaries['experience_level'] = salaries['experience_level'].replace(dictionary)\n",
    "\n",
    "set1 = sorted(set(salaries[\"employee_residence\"]))\n",
    "dictionary = {key: index for index, key in enumerate(set1)}\n",
    "salaries['employee_residence'] = salaries['employee_residence'].replace(dictionary)\n",
    "\n",
    "set1 = sorted(set(salaries[\"employment_type\"]))\n",
    "dictionary = {key: index for index, key in enumerate(set1)}\n",
    "salaries['employment_type'] = salaries['employment_type'].replace(dictionary)\n",
    "\n",
    "set1 = sorted(set(salaries[\"work_setting\"]))\n",
    "dictionary = {key: index for index, key in enumerate(set1)}\n",
    "salaries['work_setting'] = salaries['work_setting'].replace(dictionary)\n",
    "\n",
    "set1 = sorted(set(salaries[\"company_location\"]))\n",
    "dictionary = {key: index for index, key in enumerate(set1)}\n",
    "salaries['company_location'] = salaries['company_location'].replace(dictionary)\n",
    "\n",
    "set1 = sorted(set(salaries[\"company_size\"]))\n",
    "dictionary = {key: index for index, key in enumerate(set1)}\n",
    "salaries['company_size'] = salaries['company_size'].replace(dictionary)\n",
    "\n",
    "\n",
    "DATASET2 = salaries.dropna()\n",
    "\n",
    "DATASET2['salary_in_usd'] = DATASET2['salary_in_usd']>100000\n",
    "DATASET2['salary_in_usd'] = DATASET2['salary_in_usd'].astype(int)\n",
    "\n",
    "X_train2, X_test2= train_test_split(DATASET2, test_size=0.4,random_state=41)\n",
    "train_label2=X_train2['salary_in_usd']\n",
    "test_label2=X_test2['salary_in_usd']\n",
    "\n",
    "X_train2.drop(['salary_in_usd'], axis=1,inplace=True)\n",
    "X_test2.drop(['salary_in_usd'], axis=1,inplace=True)\n",
    "DATASET2"
   ]
  },
  {
   "cell_type": "markdown",
   "metadata": {},
   "source": [
    "## Clustering Algorithm 1: Expectation Maximization\n"
   ]
  },
  {
   "cell_type": "markdown",
   "metadata": {},
   "source": [
    "### Data 1"
   ]
  },
  {
   "cell_type": "code",
   "execution_count": 8,
   "metadata": {},
   "outputs": [
    {
     "name": "stdout",
     "output_type": "stream",
     "text": [
      "KNN Accuracy: 0.9830508474576272\n"
     ]
    }
   ],
   "source": [
    "gm = GaussianMixture(n_components=2,covariance_type = 'full').fit(X_train1)\n",
    "train_predict1 = gm.predict(X_train1)\n",
    "train_acc1 = metrics.accuracy_score(train_label1,train_predict1)\n",
    "\n",
    "\n",
    "test_predict1 = gm.predict(X_test1)\n",
    "test_acc1 = metrics.accuracy_score(test_label1,test_predict1)\n",
    " \n",
    "X_train, X_test, y_train, y_test = train_test_split(X_train1, train_predict1, test_size=0.2, random_state=42)\n",
    "\n",
    "# Creating and training KNN classifier\n",
    "knn_classifier = KNeighborsClassifier(n_neighbors=5)\n",
    "knn_classifier.fit(X_train, y_train)\n",
    "\n",
    "# Evaluating the classifier\n",
    "accuracy = knn_classifier.score(X_test, y_test)\n",
    "print(\"KNN Accuracy:\", accuracy)\n",
    " "
   ]
  },
  {
   "cell_type": "code",
   "execution_count": null,
   "metadata": {},
   "outputs": [],
   "source": []
  },
  {
   "cell_type": "markdown",
   "metadata": {},
   "source": [
    "### Data 2"
   ]
  },
  {
   "cell_type": "code",
   "execution_count": 12,
   "metadata": {},
   "outputs": [
    {
     "name": "stdout",
     "output_type": "stream",
     "text": [
      "KNN Accuracy: 0.9973285841495992\n"
     ]
    }
   ],
   "source": [
    "gm2 = GaussianMixture(n_components = 2,covariance_type = 'full').fit(X_train2)\n",
    "train_predict2 = gm2.predict(X_train2)\n",
    "train_acc2 = metrics.accuracy_score(train_label2,train_predict2)\n",
    "test_predict2 = gm2.predict(X_test2)\n",
    "test_acc2 = metrics.accuracy_score(test_label2,test_predict2)\n",
    "\n",
    "X_train, X_test, y_train, y_test = train_test_split(X_train2, train_predict2, test_size=0.2, random_state=42)\n",
    "\n",
    "# Creating and training KNN classifier\n",
    "knn_classifier = KNeighborsClassifier(n_neighbors=5)\n",
    "knn_classifier.fit(X_train, y_train)\n",
    "\n",
    "# Evaluating the classifier\n",
    "accuracy = knn_classifier.score(X_test, y_test)\n",
    "print(\"KNN Accuracy:\", accuracy)\n",
    " "
   ]
  },
  {
   "cell_type": "markdown",
   "metadata": {},
   "source": [
    "## Clustering Algorithm 2: Agglomerative Clustering"
   ]
  },
  {
   "cell_type": "markdown",
   "metadata": {},
   "source": [
    "### Data 1"
   ]
  },
  {
   "cell_type": "code",
   "execution_count": 10,
   "metadata": {},
   "outputs": [
    {
     "name": "stdout",
     "output_type": "stream",
     "text": [
      "KNN Accuracy: 1.0\n"
     ]
    }
   ],
   "source": [
    "gm = AgglomerativeClustering(n_clusters=2,linkage = 'ward').fit(X_train1)\n",
    "train_predict1 = gm.labels_\n",
    "train_acc1 = metrics.accuracy_score(train_label1,train_predict1)\n",
    "#test_predict1 = gm.predict(X_test1)\n",
    "#test_acc1 = metrics.accuracy_score(test_label1,test_predict1)\n",
    "\n",
    "X_train, X_test, y_train, y_test = train_test_split(X_train1, train_predict1, test_size=0.2, random_state=42)\n",
    "\n",
    "# Creating and training KNN classifier\n",
    "knn_classifier = KNeighborsClassifier(n_neighbors=5)\n",
    "knn_classifier.fit(X_train, y_train)\n",
    "\n",
    "# Evaluating the classifier\n",
    "accuracy = knn_classifier.score(X_test, y_test)\n",
    "print(\"KNN Accuracy:\", accuracy)\n",
    " "
   ]
  },
  {
   "cell_type": "code",
   "execution_count": 13,
   "metadata": {},
   "outputs": [
    {
     "name": "stdout",
     "output_type": "stream",
     "text": [
      "KNN Accuracy: 0.9991095280498664\n"
     ]
    }
   ],
   "source": [
    "gm = AgglomerativeClustering(n_clusters=2,linkage = 'ward').fit(X_train2)\n",
    "train_predict2 = gm.labels_\n",
    "train_acc2 = metrics.accuracy_score(train_label2,train_predict2)\n",
    "#test_predict1 = gm.predict(X_test1)\n",
    "\n",
    "X_train, X_test, y_train, y_test = train_test_split(X_train2, train_predict2, test_size=0.2, random_state=42)\n",
    "\n",
    "# Creating and training KNN classifier\n",
    "knn_classifier = KNeighborsClassifier(n_neighbors=5)\n",
    "knn_classifier.fit(X_train, y_train)\n",
    "\n",
    "# Evaluating the classifier\n",
    "accuracy = knn_classifier.score(X_test, y_test)\n",
    "print(\"KNN Accuracy:\", accuracy)\n",
    " "
   ]
  },
  {
   "cell_type": "code",
   "execution_count": null,
   "metadata": {},
   "outputs": [],
   "source": []
  }
 ],
 "metadata": {
  "kernelspec": {
   "display_name": "Python 3",
   "language": "python",
   "name": "python3"
  },
  "language_info": {
   "codemirror_mode": {
    "name": "ipython",
    "version": 3
   },
   "file_extension": ".py",
   "mimetype": "text/x-python",
   "name": "python",
   "nbconvert_exporter": "python",
   "pygments_lexer": "ipython3",
   "version": "3.8.3"
  }
 },
 "nbformat": 4,
 "nbformat_minor": 4
}
