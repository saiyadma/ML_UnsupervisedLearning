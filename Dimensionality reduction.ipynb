{
 "cells": [
  {
   "cell_type": "code",
   "execution_count": 44,
   "metadata": {},
   "outputs": [],
   "source": [
    "import pandas as pd\n",
    "from sklearn.model_selection import train_test_split\n",
    "from sklearn.decomposition import PCA\n",
    "from sklearn.decomposition import FastICA\n",
    "from sklearn.random_projection import SparseRandomProjection\n",
    "from sklearn.manifold import TSNE\n",
    "import matplotlib.pyplot as plt\n",
    "import numpy as np"
   ]
  },
  {
   "cell_type": "markdown",
   "metadata": {},
   "source": [
    "## Loading Data sets"
   ]
  },
  {
   "cell_type": "code",
   "execution_count": 16,
   "metadata": {},
   "outputs": [],
   "source": [
    "# Dataset 1 from Homework 1: credit cards\n",
    "credit = pd.read_csv(\"creditcard.csv\")\n",
    "fraud_df = credit.loc[credit['Class'] == 1]\n",
    "non_fraud_df = credit.loc[credit['Class'] == 0][:492]\n",
    "\n",
    "normal_distributed_df = pd.concat([fraud_df, non_fraud_df])\n",
    "\n",
    "# Shuffle dataframe rows\n",
    "new_df = normal_distributed_df.sample(frac=1, random_state=42)\n",
    "\n",
    "DATASET1 = new_df.dropna()\n",
    "DATASET1 = DATASET1[['V1','V2','V3','V4','V5','V6','Class']]\n",
    "\n",
    "X1 = DATASET1\n",
    "Y1=DATASET1['Class']\n",
    "X1.drop(['Class'], axis=1,inplace=True)\n"
   ]
  },
  {
   "cell_type": "code",
   "execution_count": 17,
   "metadata": {},
   "outputs": [],
   "source": [
    "# Dataset 2 from Homework 1: Data Science Salaries\n",
    "salaries = pd.read_csv(\"salaries.csv\")\n",
    "#salaries = pd.get_dummies(salaries, columns=['job_title', 'job_category', 'experience_level', 'work_setting','employment_type','company_location','company_size','salary_currency', 'salary', 'employee_residence'])\n",
    "salaries['job_title'] = salaries['job_title'].str.replace('Business Intelligence','BI')\n",
    "salaries['job_title'] = salaries['job_title'].str.replace('Machine Learning','ML')\n",
    "salaries.drop(['salary_currency','salary'], axis = 1, inplace = True)\n",
    "\n",
    "set1 = sorted(set(salaries['job_title']))\n",
    "dictionary = {key: index for index, key in enumerate(set1)}\n",
    "salaries['job_title'] = salaries['job_title'].replace(dictionary)\n",
    "\n",
    "set1 = sorted(set(salaries[\"job_category\"]))\n",
    "dictionary = {key: index for index, key in enumerate(set1)}\n",
    "salaries['job_category'] = salaries['job_category'].replace(dictionary)\n",
    "\n",
    "set1 = sorted(set(salaries[\"employee_residence\"]))\n",
    "dictionary = {key: index for index, key in enumerate(set1)}\n",
    "salaries['employee_residence'] = salaries['employee_residence'].replace(dictionary)\n",
    "\n",
    "set1 = sorted(set(salaries[\"experience_level\"]))\n",
    "dictionary = {key: index for index, key in enumerate(set1)}\n",
    "salaries['experience_level'] = salaries['experience_level'].replace(dictionary)\n",
    "\n",
    "set1 = sorted(set(salaries[\"employee_residence\"]))\n",
    "dictionary = {key: index for index, key in enumerate(set1)}\n",
    "salaries['employee_residence'] = salaries['employee_residence'].replace(dictionary)\n",
    "\n",
    "set1 = sorted(set(salaries[\"employment_type\"]))\n",
    "dictionary = {key: index for index, key in enumerate(set1)}\n",
    "salaries['employment_type'] = salaries['employment_type'].replace(dictionary)\n",
    "\n",
    "set1 = sorted(set(salaries[\"work_setting\"]))\n",
    "dictionary = {key: index for index, key in enumerate(set1)}\n",
    "salaries['work_setting'] = salaries['work_setting'].replace(dictionary)\n",
    "\n",
    "set1 = sorted(set(salaries[\"company_location\"]))\n",
    "dictionary = {key: index for index, key in enumerate(set1)}\n",
    "salaries['company_location'] = salaries['company_location'].replace(dictionary)\n",
    "\n",
    "set1 = sorted(set(salaries[\"company_size\"]))\n",
    "dictionary = {key: index for index, key in enumerate(set1)}\n",
    "salaries['company_size'] = salaries['company_size'].replace(dictionary)\n",
    "\n",
    "\n",
    "DATASET2 = salaries.dropna()\n",
    "\n",
    "DATASET2['salary_in_usd'] = DATASET2['salary_in_usd']>100000\n",
    "DATASET2['salary_in_usd'] = DATASET2['salary_in_usd'].astype(int)\n",
    "\n",
    "\n",
    "X2 = DATASET2\n",
    "Y2=DATASET2['salary_in_usd']\n",
    "X2.drop(['salary_in_usd'], axis=1,inplace=True)\n"
   ]
  },
  {
   "cell_type": "markdown",
   "metadata": {},
   "source": [
    "### PCA"
   ]
  },
  {
   "cell_type": "code",
   "execution_count": 36,
   "metadata": {},
   "outputs": [
    {
     "data": {
      "text/plain": [
       "array([[-5.81809231, -1.86163739, -0.30537121],\n",
       "       [ 0.83588426,  5.55388634, -0.18927385],\n",
       "       [-5.24900802,  0.67542269, -0.43444602],\n",
       "       ...,\n",
       "       [-6.57415029, -2.5576227 , -0.23051136],\n",
       "       [-1.01375282, -0.89036372, -0.14203152],\n",
       "       [-0.36792332,  0.47696351,  9.84076884]])"
      ]
     },
     "execution_count": 36,
     "metadata": {},
     "output_type": "execute_result"
    }
   ],
   "source": [
    "# Data1\n",
    "pca = PCA(n_components=3)  # Reducing to 2 dimensions for visualization\n",
    "X_pca = pca.fit_transform(X1)\n",
    "X_pca"
   ]
  },
  {
   "cell_type": "code",
   "execution_count": 37,
   "metadata": {},
   "outputs": [
    {
     "data": {
      "image/png": "[encoded data removed]",
      "text/plain": [
       "<Figure size 576x360 with 1 Axes>"
      ]
     },
     "metadata": {
      "needs_background": "light"
     },
     "output_type": "display_data"
    }
   ],
   "source": [
    "eigenvalues = pca.explained_variance_\n",
    "\n",
    "# Plotting eigenvalues\n",
    "plt.figure(figsize=(8, 5))\n",
    "plt.bar(range(1, len(eigenvalues) + 1), eigenvalues, color='skyblue')\n",
    "plt.xlabel('Principal Component')\n",
    "plt.ylabel('Eigenvalue')\n",
    "plt.title('Eigenvalues of Principal Components')\n",
    "plt.show()"
   ]
  },
  {
   "cell_type": "code",
   "execution_count": 19,
   "metadata": {},
   "outputs": [
    {
     "data": {
      "text/plain": [
       "array([[-1.28007890e+01,  6.38976410e+01, -2.53627878e+00],\n",
       "       [-1.63650227e+01, -4.66367674e+00, -1.38843191e-01],\n",
       "       [-1.63650227e+01, -4.66367674e+00, -1.38843191e-01],\n",
       "       ...,\n",
       "       [ 5.56940533e+01, -7.27621307e+00,  9.98291083e-02],\n",
       "       [ 1.17958029e+01, -5.65016387e+00,  5.39494389e-02],\n",
       "       [-3.03949113e+01, -4.11916357e+00, -1.57078146e-01]])"
      ]
     },
     "execution_count": 19,
     "metadata": {},
     "output_type": "execute_result"
    }
   ],
   "source": [
    "# Data2\n",
    "pca = PCA(n_components=3)  # Reducing to 2 dimensions for visualization\n",
    "X_pca = pca.fit_transform(X2)\n",
    "X_pca"
   ]
  },
  {
   "cell_type": "code",
   "execution_count": 38,
   "metadata": {},
   "outputs": [
    {
     "data": {
      "image/png": "[encoded data removed]",
      "text/plain": [
       "<Figure size 576x360 with 1 Axes>"
      ]
     },
     "metadata": {
      "needs_background": "light"
     },
     "output_type": "display_data"
    }
   ],
   "source": [
    "eigenvalues = pca.explained_variance_\n",
    "\n",
    "# Plotting eigenvalues\n",
    "plt.figure(figsize=(8, 5))\n",
    "plt.bar(range(1, len(eigenvalues) + 1), eigenvalues, color='skyblue')\n",
    "plt.xlabel('Principal Component')\n",
    "plt.ylabel('Eigenvalue')\n",
    "plt.title('Eigenvalues of Principal Components')\n",
    "plt.show()"
   ]
  },
  {
   "cell_type": "markdown",
   "metadata": {},
   "source": [
    "### ICA"
   ]
  },
  {
   "cell_type": "code",
   "execution_count": 39,
   "metadata": {},
   "outputs": [
    {
     "data": {
      "text/plain": [
       "array([[-2.65165662e-02, -8.10027746e-03, -1.13645369e-02],\n",
       "       [ 6.46051984e-02,  8.33888224e-03, -1.88036522e-02],\n",
       "       [ 3.30253979e-03, -5.07857338e-03, -1.94728485e-02],\n",
       "       ...,\n",
       "       [-3.54289160e-02, -8.11002901e-03, -1.08869393e-02],\n",
       "       [-1.08348460e-02, -4.17700423e-03, -3.18113133e-05],\n",
       "       [-2.04252622e-02,  1.73840691e-01,  1.78048744e-02]])"
      ]
     },
     "execution_count": 39,
     "metadata": {},
     "output_type": "execute_result"
    }
   ],
   "source": [
    "# Data1\n",
    "ica = FastICA(n_components=3)  # Reducing to 2 dimensions for visualization\n",
    "X_ica = ica.fit_transform(X1)\n",
    "X_ica"
   ]
  },
  {
   "cell_type": "code",
   "execution_count": 55,
   "metadata": {},
   "outputs": [
    {
     "data": {
      "image/png": "[encoded data removed]",
      "text/plain": [
       "<Figure size 576x360 with 1 Axes>"
      ]
     },
     "metadata": {
      "needs_background": "light"
     },
     "output_type": "display_data"
    }
   ],
   "source": [
    "kurtosis = np.mean(np.abs((X_ica - X_ica.mean(axis=0))**4) / (X_ica.std(axis=0)**4), axis=0)\n",
    "\n",
    "# Plotting kurtosis\n",
    "plt.figure(figsize=(8, 5))\n",
    "plt.bar(range(1, len(kurtosis) + 1), kurtosis, color='skyblue')\n",
    "plt.xlabel('Independent Component')\n",
    "plt.ylabel('Kurtosis')\n",
    "plt.title('Kurtosis of Independent Components')\n",
    "plt.show()"
   ]
  },
  {
   "cell_type": "code",
   "execution_count": 54,
   "metadata": {},
   "outputs": [
    {
     "data": {
      "text/plain": [
       "array([[ 0.03539125,  0.00481309,  0.00634804],\n",
       "       [-0.00272757,  0.00060476,  0.00607724],\n",
       "       [-0.00272757,  0.00060476,  0.00607724],\n",
       "       ...,\n",
       "       [-0.00314697,  0.00054082, -0.02112186],\n",
       "       [-0.00290829,  0.00024021, -0.00456034],\n",
       "       [-0.00263654,  0.00051937,  0.01137112]])"
      ]
     },
     "execution_count": 54,
     "metadata": {},
     "output_type": "execute_result"
    }
   ],
   "source": [
    "# Data2\n",
    "ica = FastICA(n_components=3)  # Reducing to 2 dimensions for visualization\n",
    "X_ica = ica.fit_transform(X2)\n",
    "X_ica\n"
   ]
  },
  {
   "cell_type": "code",
   "execution_count": 56,
   "metadata": {},
   "outputs": [
    {
     "data": {
      "image/png": "[encoded data removed]",
      "text/plain": [
       "<Figure size 576x360 with 1 Axes>"
      ]
     },
     "metadata": {
      "needs_background": "light"
     },
     "output_type": "display_data"
    }
   ],
   "source": [
    "kurtosis = np.mean(np.abs((X_ica - X_ica.mean(axis=0))**4) / (X_ica.std(axis=0)**4), axis=0)\n",
    "\n",
    "# Plotting kurtosis\n",
    "plt.figure(figsize=(8, 5))\n",
    "plt.bar(range(1, len(kurtosis) + 1), kurtosis, color='skyblue')\n",
    "plt.xlabel('Independent Component')\n",
    "plt.ylabel('Kurtosis')\n",
    "plt.title('Kurtosis of Independent Components')\n",
    "plt.show()"
   ]
  },
  {
   "cell_type": "markdown",
   "metadata": {},
   "source": [
    "### Randomized projection"
   ]
  },
  {
   "cell_type": "code",
   "execution_count": 28,
   "metadata": {},
   "outputs": [
    {
     "data": {
      "text/plain": [
       "array([[ -0.40593143,  -0.18274692],\n",
       "       [-12.2185518 ,   6.22009066],\n",
       "       [ -4.17960709,   1.39918072],\n",
       "       ...,\n",
       "       [  2.31403565,  -2.41028768],\n",
       "       [  0.14847482,   0.13222217],\n",
       "       [  5.87327302,   4.89227136]])"
      ]
     },
     "execution_count": 28,
     "metadata": {},
     "output_type": "execute_result"
    }
   ],
   "source": [
    "# Data 1\n",
    "rp = SparseRandomProjection(n_components=2)  \n",
    "X_rp = rp.fit_transform(X1)\n",
    "X_rp"
   ]
  },
  {
   "cell_type": "code",
   "execution_count": 49,
   "metadata": {},
   "outputs": [
    {
     "data": {
      "image/png": "[encoded data removed]",
      "text/plain": [
       "<Figure size 576x360 with 1 Axes>"
      ]
     },
     "metadata": {
      "needs_background": "light"
     },
     "output_type": "display_data"
    }
   ],
   "source": [
    "explained_variance_ratio = np.var(X_rp, axis=0) / np.sum(np.var(X_rp, axis=0))\n",
    "\n",
    "# Plotting explained variance ratio\n",
    "plt.figure(figsize=(8, 5))\n",
    "plt.bar(range(1, len(explained_variance_ratio) + 1), explained_variance_ratio, color='skyblue')\n",
    "plt.xlabel('Sparse Random Projection')\n",
    "plt.ylabel('Explained Variance Ratio')\n",
    "plt.title('Explained Variance Ratio of Sparse Random Projection')\n",
    "plt.show()"
   ]
  },
  {
   "cell_type": "code",
   "execution_count": 29,
   "metadata": {},
   "outputs": [
    {
     "data": {
      "text/plain": [
       "array([[-2439.69178381,  2505.82800687],\n",
       "       [-2448.26499791,  2560.94152608],\n",
       "       [-2448.26499791,  2560.94152608],\n",
       "       ...,\n",
       "       [-2356.40913256,  2559.71678121],\n",
       "       [-2406.62367228,  2556.04254659],\n",
       "       [-2458.06295688,  2558.49203634]])"
      ]
     },
     "execution_count": 29,
     "metadata": {},
     "output_type": "execute_result"
    }
   ],
   "source": [
    "# Data 2\n",
    "rp = SparseRandomProjection(n_components=2)  \n",
    "X_rp = rp.fit_transform(X2)\n",
    "X_rp\n"
   ]
  },
  {
   "cell_type": "code",
   "execution_count": 50,
   "metadata": {},
   "outputs": [
    {
     "data": {
      "image/png": "[encoded data removed]",
      "text/plain": [
       "<Figure size 576x360 with 1 Axes>"
      ]
     },
     "metadata": {
      "needs_background": "light"
     },
     "output_type": "display_data"
    }
   ],
   "source": [
    "explained_variance_ratio = np.var(X_rp, axis=0) / np.sum(np.var(X_rp, axis=0))\n",
    "\n",
    "# Plotting explained variance ratio\n",
    "plt.figure(figsize=(8, 5))\n",
    "plt.bar(range(1, len(explained_variance_ratio) + 1), explained_variance_ratio, color='skyblue')\n",
    "plt.xlabel('Sparse Random Projection')\n",
    "plt.ylabel('Explained Variance Ratio')\n",
    "plt.title('Explained Variance Ratio of Sparse Random Projection')\n",
    "plt.show()"
   ]
  },
  {
   "cell_type": "code",
   "execution_count": null,
   "metadata": {},
   "outputs": [],
   "source": []
  },
  {
   "cell_type": "markdown",
   "metadata": {},
   "source": [
    "### Manifold Learning Algorithm ( t-SNE) "
   ]
  },
  {
   "cell_type": "code",
   "execution_count": 58,
   "metadata": {},
   "outputs": [
    {
     "data": {
      "text/plain": [
       "2"
      ]
     },
     "execution_count": 58,
     "metadata": {},
     "output_type": "execute_result"
    }
   ],
   "source": [
    "# Data 1\n",
    "tsne = TSNE(n_components=2, random_state=42)\n",
    "X_tsne = tsne.fit_transform(X1)\n",
    "\n",
    "np.linalg.matrix_rank(X_tsne)"
   ]
  },
  {
   "cell_type": "code",
   "execution_count": 52,
   "metadata": {},
   "outputs": [
    {
     "data": {
      "image/png": "[encoded data removed]",
      "text/plain": [
       "<Figure size 576x360 with 1 Axes>"
      ]
     },
     "metadata": {
      "needs_background": "light"
     },
     "output_type": "display_data"
    }
   ],
   "source": [
    "explained_variance_ratio = np.var(X_tsne, axis=0) / np.sum(np.var(X_tsne, axis=0))\n",
    "\n",
    "# Plotting explained variance ratio\n",
    "plt.figure(figsize=(8, 5))\n",
    "plt.bar(range(1, len(explained_variance_ratio) + 1), explained_variance_ratio, color='skyblue')\n",
    "plt.xlabel('Sparse Random Projection')\n",
    "plt.ylabel('Explained Variance Ratio')\n",
    "plt.title('Explained Variance Ratio of Sparse Random Projection')\n",
    "plt.show()"
   ]
  },
  {
   "cell_type": "code",
   "execution_count": null,
   "metadata": {},
   "outputs": [],
   "source": []
  },
  {
   "cell_type": "code",
   "execution_count": 33,
   "metadata": {},
   "outputs": [
    {
     "data": {
      "text/plain": [
       "array([[  5.4482574, -21.90801  ],\n",
       "       [ 51.563442 , -48.32477  ],\n",
       "       [ 50.971054 , -47.91273  ],\n",
       "       ...,\n",
       "       [ 45.80226  ,  21.966759 ],\n",
       "       [ 54.2793   ,  -4.8891783],\n",
       "       [-14.191639 , -52.361763 ]], dtype=float32)"
      ]
     },
     "execution_count": 33,
     "metadata": {},
     "output_type": "execute_result"
    }
   ],
   "source": [
    "# Data 1\n",
    "tsne = TSNE(n_components=2)\n",
    "X_tsne = tsne.fit_transform(X2)\n",
    "X_tsne"
   ]
  },
  {
   "cell_type": "code",
   "execution_count": 53,
   "metadata": {},
   "outputs": [
    {
     "data": {
      "image/png": "[encoded data removed]",
      "text/plain": [
       "<Figure size 576x360 with 1 Axes>"
      ]
     },
     "metadata": {
      "needs_background": "light"
     },
     "output_type": "display_data"
    }
   ],
   "source": [
    "explained_variance_ratio = np.var(X_tsne, axis=0) / np.sum(np.var(X_tsne, axis=0))\n",
    "\n",
    "# Plotting explained variance ratio\n",
    "plt.figure(figsize=(8, 5))\n",
    "plt.bar(range(1, len(explained_variance_ratio) + 1), explained_variance_ratio, color='skyblue')\n",
    "plt.xlabel('Sparse Random Projection')\n",
    "plt.ylabel('Explained Variance Ratio')\n",
    "plt.title('Explained Variance Ratio of Sparse Random Projection')\n",
    "plt.show()"
   ]
  },
  {
   "cell_type": "code",
   "execution_count": null,
   "metadata": {},
   "outputs": [],
   "source": []
  }
 ],
 "metadata": {
  "kernelspec": {
   "display_name": "Python 3",
   "language": "python",
   "name": "python3"
  },
  "language_info": {
   "codemirror_mode": {
    "name": "ipython",
    "version": 3
   },
   "file_extension": ".py",
   "mimetype": "text/x-python",
   "name": "python",
   "nbconvert_exporter": "python",
   "pygments_lexer": "ipython3",
   "version": "3.8.3"
  }
 },
 "nbformat": 4,
 "nbformat_minor": 4
}
